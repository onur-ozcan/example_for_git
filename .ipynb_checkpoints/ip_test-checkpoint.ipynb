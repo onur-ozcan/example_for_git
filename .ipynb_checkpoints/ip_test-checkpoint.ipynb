{
 "cells": [
  {
   "cell_type": "markdown",
   "metadata": {},
   "source": [
    "<h1>Go scoring function"
   ]
  },
  {
   "cell_type": "markdown",
   "metadata": {},
   "source": [
    "The code below is about evaluating model according to their actual X-ray data. Starts with importing necessary modules."
   ]
  },
  {
   "cell_type": "code",
   "execution_count": null,
   "metadata": {
    "collapsed": true
   },
   "outputs": [],
   "source": [
    "from __future__ import division\n",
    "import sys\n",
    "import math"
   ]
  },
  {
   "cell_type": "markdown",
   "metadata": {},
   "source": [
    "First function that defined below takes first imput as native model(sys.argv[1])."
   ]
  },
  {
   "cell_type": "code",
   "execution_count": null,
   "metadata": {
    "collapsed": true
   },
   "outputs": [],
   "source": [
    "def go_score1(filename1):\n",
    "\n",
    "    file1 = open(filename1) #native"
   ]
  },
  {
   "cell_type": "markdown",
   "metadata": {},
   "source": [
    "Goes through pdb file and stores x,y,z coordinates to the created lists."
   ]
  },
  {
   "cell_type": "code",
   "execution_count": null,
   "metadata": {
    "collapsed": true
   },
   "outputs": [],
   "source": [
    "    x1=[]\n",
    "    y1=[]\n",
    "    z1=[]\n",
    "    for line in file1:\n",
    "        if 'ATOM' in line and 'CA' in line:\n",
    "            splitted_line = [line[:6], line[6:11], line[12:16], line[17:20], line[21], line[22:26], line[30:38], line[38:46], line[46:54]]\n",
    "            a = \"%-6s %5s %4s %3s %s %4s    %8s %8s %8s\\n\"%tuple(splitted_line)\n",
    "            a = a.split()\n",
    "            x1.append(float(a[-3]))\n",
    "            y1.append(float(a[-2]))\n",
    "            z1.append(float(a[-1]))"
   ]
  },
  {
   "cell_type": "markdown",
   "metadata": {},
   "source": [
    "Than it calculates distance within every pair of atom that given pdb structure has and returns these distances as list again"
   ]
  },
  {
   "cell_type": "code",
   "execution_count": null,
   "metadata": {
    "collapsed": true
   },
   "outputs": [],
   "source": [
    "    distance_native = []\n",
    "    for i in range(len(x1)-1):\n",
    "        for j in range(i+1,len(x1)):\n",
    "            val = math.sqrt((x1[i]-x1[j])**2+(y1[i]-y1[j])**2+(z1[i]-z1[j])**2)\n",
    "            distance_native.append(val)\n",
    "            \n",
    "    file1.close()\n",
    "\n",
    "    return distance_native\n"
   ]
  },
  {
   "cell_type": "markdown",
   "metadata": {},
   "source": [
    "Second function does same thing for second imput(sys.argv[2])"
   ]
  },
  {
   "cell_type": "code",
   "execution_count": null,
   "metadata": {
    "collapsed": true
   },
   "outputs": [],
   "source": [
    "def go_score2(filename2):\n",
    "\n",
    "    file2 = open(filename2) #models\n",
    "    x2=[]\n",
    "    y2=[]\n",
    "    z2=[]\n",
    "    for line in file2:\n",
    "        if 'ATOM' in line and 'CA' in line:\n",
    "            splitted_line = [line[:6], line[6:11], line[12:16], line[17:20], line[21], line[22:26], line[30:38], line[38:46], line[46:54]]\n",
    "            a = \"%-6s %5s %4s %3s %s %4s    %8s %8s %8s\\n\"%tuple(splitted_line)\n",
    "            a = a.split()\n",
    "            x2.append(float(a[-3]))\n",
    "            y2.append(float(a[-2]))\n",
    "            z2.append(float(a[-1]))\n",
    "    distance_model = []\n",
    "    for i in range(len(x2)-1):\n",
    "        for j in range(i+1,len(x2)):\n",
    "            val = math.sqrt((x2[i]-x2[j])**2+(y2[i]-y2[j])**2+(z2[i]-z2[j])**2)\n",
    "            distance_model.append(val)\n",
    "            \n",
    "    file2.close()\n",
    "\n",
    "    return distance_model\n"
   ]
  },
  {
   "cell_type": "markdown",
   "metadata": {},
   "source": [
    "In this part main function runs.\n",
    "\n",
    "$$\\frac{\\sum_{k=1}^n e^{((-(r_n - r_m))^2)/{2*\\sigma^2}}}{n}$$ \n",
    "This summation goes through distance between every pair of atoms and subtract the distance in the model from the distance in the x-ray structure for same atom pair. Summation is divided by the number of atom pairs for normalization."
   ]
  },
  {
   "cell_type": "code",
   "execution_count": null,
   "metadata": {
    "collapsed": true
   },
   "outputs": [],
   "source": [
    "if __name__ == \"__main__\":\n",
    "    dist_nat = go_score1(sys.argv[1])\n",
    "    dist_mod = go_score2(sys.argv[2])\n",
    "    \n",
    "    val = 0\n",
    "    sigma = 1\n",
    "    for i in range(len(dist_nat)):\n",
    "        calc = math.exp((-(dist_nat[i]-dist_mod[i])**2)/2*sigma**2)\n",
    "        val = val + calc\n",
    "    result = val / len(dist_nat)\n",
    "\n",
    "    print result\n"
   ]
  },
  {
   "cell_type": "markdown",
   "metadata": {},
   "source": [
    "Best possible score that we can get by using this function is 1, which we can see that below by using same x-ray structure as model of itself."
   ]
  },
  {
   "cell_type": "code",
   "execution_count": 4,
   "metadata": {
    "collapsed": false
   },
   "outputs": [
    {
     "name": "stdout",
     "output_type": "stream",
     "text": [
      "2mta.B99990004.pdb  2mta_cut.pdb  go_score.py  ip_test.ipynb\r\n"
     ]
    }
   ],
   "source": [
    "ls"
   ]
  },
  {
   "cell_type": "code",
   "execution_count": 8,
   "metadata": {
    "collapsed": false
   },
   "outputs": [
    {
     "name": "stdout",
     "output_type": "stream",
     "text": [
      "1.0\n"
     ]
    }
   ],
   "source": [
    "%run go_score.py 2mta_cut.pdb 2mta_cut.pdb"
   ]
  },
  {
   "cell_type": "code",
   "execution_count": 13,
   "metadata": {
    "collapsed": false
   },
   "outputs": [
    {
     "name": "stdout",
     "output_type": "stream",
     "text": [
      "0.26062108512\n"
     ]
    }
   ],
   "source": [
    "%run go_score.py 2mta_cut.pdb 2mta.B99990004.pdb"
   ]
  },
  {
   "cell_type": "code",
   "execution_count": 15,
   "metadata": {
    "collapsed": false
   },
   "outputs": [
    {
     "name": "stdout",
     "output_type": "stream",
     "text": [
      "1.0\n"
     ]
    }
   ],
   "source": [
    "%run go_score.py 2mta.B99990004.pdb 2mta.B99990004.pdb"
   ]
  },
  {
   "cell_type": "code",
   "execution_count": 16,
   "metadata": {
    "collapsed": false
   },
   "outputs": [
    {
     "name": "stdout",
     "output_type": "stream",
     "text": [
      "0.26062108512\n"
     ]
    }
   ],
   "source": [
    "%run go_score.py 2mta.B99990004.pdb 2mta_cut.pdb"
   ]
  },
  {
   "cell_type": "markdown",
   "metadata": {},
   "source": [
    "Modifying last part of script as below makes it easier to evaluate non-variable outputs which was modellers outputs in this example."
   ]
  },
  {
   "cell_type": "code",
   "execution_count": null,
   "metadata": {
    "collapsed": true
   },
   "outputs": [],
   "source": [
    "if __name__ == \"__main__\":\n",
    "    dist_nat = go_score1(sys.argv[1])\n",
    "\n",
    "    for name in range(10):\n",
    "        name = '%s.B%i.pdb'%(sys.argv[2],int(99990001)+int(name))\n",
    "\n",
    "        dist_mod = go_score2(name)\n",
    "    \n",
    "        val = 0\n",
    "        sigma = 1\n",
    "        for i in range(len(dist_nat)):\n",
    "            calc = math.exp((-(dist_nat[i]-dist_mod[i])**2)/2*sigma**2)\n",
    "            val = val + calc\n",
    "        result = val / len(dist_nat)\n",
    "\n",
    "        print name,' ',result\n"
   ]
  }
 ],
 "metadata": {
  "anaconda-cloud": {},
  "kernelspec": {
   "display_name": "Python [default]",
   "language": "python",
   "name": "python2"
  },
  "language_info": {
   "codemirror_mode": {
    "name": "ipython",
    "version": 2
   },
   "file_extension": ".py",
   "mimetype": "text/x-python",
   "name": "python",
   "nbconvert_exporter": "python",
   "pygments_lexer": "ipython2",
   "version": "2.7.12"
  }
 },
 "nbformat": 4,
 "nbformat_minor": 1
}
